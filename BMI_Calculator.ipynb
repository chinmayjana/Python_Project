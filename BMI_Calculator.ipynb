{
 "cells": [
  {
   "cell_type": "code",
   "execution_count": 14,
   "id": "4de74f64",
   "metadata": {},
   "outputs": [],
   "source": [
    "def bmicalculator():\n",
    "    height=float(input(\"Please enter the height in cm: \"))\n",
    "    weight=float(input(\"Please enter the weight in Kg: \"))\n",
    "    \n",
    "    bmi=round(weight/(height/100)**2,2)\n",
    "    print(\"Your body mass index is: \", bmi)\n",
    "    if bmi <= 18.5:\n",
    "        print(\"You are underweight. \")\n",
    "    elif bmi <= 24.9:\n",
    "        print(\"You are healthy. \")    \n",
    "    \n",
    "    elif bmi <= 29.9:\n",
    "        print(\"You are overweight. \")\n",
    "    else:\n",
    "        print(\"You are obese.\")\n",
    "        \n",
    "   "
   ]
  },
  {
   "cell_type": "code",
   "execution_count": 15,
   "id": "261b004c",
   "metadata": {},
   "outputs": [
    {
     "name": "stdout",
     "output_type": "stream",
     "text": [
      "Please enter the height in cm: 172\n",
      "Please enter the weight in Kg: 67\n",
      "Your body mass index is:  22.65\n",
      "You are healthy. \n"
     ]
    }
   ],
   "source": [
    "bmicalculator()"
   ]
  },
  {
   "cell_type": "code",
   "execution_count": null,
   "id": "98171107",
   "metadata": {},
   "outputs": [],
   "source": []
  }
 ],
 "metadata": {
  "kernelspec": {
   "display_name": "Python 3 (ipykernel)",
   "language": "python",
   "name": "python3"
  },
  "language_info": {
   "codemirror_mode": {
    "name": "ipython",
    "version": 3
   },
   "file_extension": ".py",
   "mimetype": "text/x-python",
   "name": "python",
   "nbconvert_exporter": "python",
   "pygments_lexer": "ipython3",
   "version": "3.9.12"
  }
 },
 "nbformat": 4,
 "nbformat_minor": 5
}
